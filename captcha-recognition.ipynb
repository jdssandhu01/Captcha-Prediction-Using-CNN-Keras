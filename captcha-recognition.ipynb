{
 "cells": [
  {
   "cell_type": "code",
   "execution_count": 8,
   "metadata": {
    "_cell_guid": "b1076dfc-b9ad-4769-8c92-a6c4dae69d19",
    "_uuid": "8f2839f25d086af736a60e9eeb907d3b93b6e0e5"
   },
   "outputs": [
    {
     "name": "stdout",
     "output_type": "stream",
     "text": [
      "['.git', 'amazon-captcha-training-data', 'samples']\n"
     ]
    }
   ],
   "source": [
    "import numpy as np # linear algebra\n",
    "import pandas as pd # data processing, CSV file I/O (e.g. pd.read_csv)\n",
    "# Input data files are available in the \"./captcha/\" directory.\n",
    "%matplotlib inline \n",
    "import matplotlib.pyplot as plt\n",
    "import os\n",
    "print(os.listdir(\"./captcha\"))"
   ]
  },
  {
   "cell_type": "code",
   "execution_count": 9,
   "metadata": {
    "_uuid": "1fdd3e1588206ff8c65ec7cf8ac41c5360a5c00a"
   },
   "outputs": [],
   "source": [
    "from keras import layers\n",
    "from keras.models import Model\n",
    "from keras.models import load_model\n",
    "from keras import callbacks\n",
    "import os\n",
    "import cv2\n",
    "import string\n",
    "import numpy as np\n",
    "\n",
    "#Init main values\n",
    "symbols = string.ascii_lowercase + \"0123456789\" # All symbols captcha can contain\n",
    "num_symbols = len(symbols)\n",
    "img_shape = (50, 200, 1)"
   ]
  },
  {
   "cell_type": "code",
   "execution_count": 10,
   "metadata": {
    "_uuid": "a84cb6138839a96688013722a585658859150dd8"
   },
   "outputs": [
    {
     "name": "stdout",
     "output_type": "stream",
     "text": [
      "36\n"
     ]
    }
   ],
   "source": [
    "print(num_symbols)"
   ]
  },
  {
   "cell_type": "code",
   "execution_count": 11,
   "metadata": {
    "_uuid": "46c8b77c16307b91a561dd2b3c82d894063671b8"
   },
   "outputs": [],
   "source": [
    "def create_model():\n",
    "    img = layers.Input(shape=img_shape) # Get image as an input and process it through some Convs\n",
    "    conv1 = layers.Conv2D(16, (3, 3), padding='same', activation='relu')(img)\n",
    "    mp1 = layers.MaxPooling2D(padding='same')(conv1)  # 100x25\n",
    "    conv2 = layers.Conv2D(32, (3, 3), padding='same', activation='relu')(mp1)\n",
    "    mp2 = layers.MaxPooling2D(padding='same')(conv2)  # 50x13\n",
    "    conv3 = layers.Conv2D(32, (3, 3), padding='same', activation='relu')(mp2)\n",
    "    bn = layers.BatchNormalization()(conv3)\n",
    "    mp3 = layers.MaxPooling2D(padding='same')(bn)  # 25x7\n",
    "    \n",
    "    # Get flattened vector and make 5 branches from it. Each branch will predict one letter\n",
    "    flat = layers.Flatten()(mp3)\n",
    "    outs = []\n",
    "    for _ in range(5):\n",
    "        dens1 = layers.Dense(64, activation='relu')(flat)\n",
    "        drop = layers.Dropout(0.5)(dens1)\n",
    "        res = layers.Dense(num_symbols, activation='sigmoid')(drop)\n",
    "\n",
    "        outs.append(res)\n",
    "    \n",
    "    # Compile model and return it\n",
    "    model = Model(img, outs)\n",
    "    model.compile(loss='categorical_crossentropy', optimizer='adam',metrics=[\"accuracy\"])\n",
    "    return model"
   ]
  },
  {
   "cell_type": "code",
   "execution_count": 12,
   "metadata": {
    "_uuid": "4dccb0ee2eb679f4b7e7d1a92b52d643ac02ff3e"
   },
   "outputs": [],
   "source": [
    "def preprocess_data():\n",
    "    n_samples = len(os.listdir('./captcha/samples'))\n",
    "    X = np.zeros((n_samples, 50, 200, 1)) #1070*50*200\n",
    "    y = np.zeros((5, n_samples, num_symbols)) #5*1070*36\n",
    "\n",
    "    for i, pic in enumerate(os.listdir('./captcha/samples')):\n",
    "        # Read image as grayscale\n",
    "        img = cv2.imread(os.path.join('./captcha/samples', pic), cv2.IMREAD_GRAYSCALE)\n",
    "        pic_target = pic[:-4]\n",
    "        if len(pic_target) < 6:\n",
    "            # Scale and reshape image\n",
    "            img = img / 255.0\n",
    "            img = np.reshape(img, (50, 200, 1))\n",
    "            # Define targets and code them using OneHotEncoding\n",
    "            targs = np.zeros((5, num_symbols))\n",
    "            for j, l in enumerate(pic_target):\n",
    "                ind = symbols.find(l)\n",
    "                targs[j, ind] = 1\n",
    "            X[i] = img\n",
    "            y[:, i] = targs\n",
    "    \n",
    "    # Return final data\n",
    "    return X, y\n",
    "\n",
    "X, y = preprocess_data()\n",
    "X_train, y_train = X[:970], y[:, :970]\n",
    "X_test, y_test = X[970:], y[:, 970:]"
   ]
  },
  {
   "cell_type": "code",
   "execution_count": 13,
   "metadata": {
    "_uuid": "834999810cccd5d867f87b26b4b6e89d87a3092f"
   },
   "outputs": [
    {
     "name": "stderr",
     "output_type": "stream",
     "text": [
      "W1117 18:13:28.961639 10404 deprecation_wrapper.py:119] From C:\\Users\\JD\\Anaconda3\\lib\\site-packages\\keras\\backend\\tensorflow_backend.py:74: The name tf.get_default_graph is deprecated. Please use tf.compat.v1.get_default_graph instead.\n",
      "\n",
      "W1117 18:13:28.982627 10404 deprecation_wrapper.py:119] From C:\\Users\\JD\\Anaconda3\\lib\\site-packages\\keras\\backend\\tensorflow_backend.py:517: The name tf.placeholder is deprecated. Please use tf.compat.v1.placeholder instead.\n",
      "\n",
      "W1117 18:13:28.988620 10404 deprecation_wrapper.py:119] From C:\\Users\\JD\\Anaconda3\\lib\\site-packages\\keras\\backend\\tensorflow_backend.py:4138: The name tf.random_uniform is deprecated. Please use tf.random.uniform instead.\n",
      "\n",
      "W1117 18:13:29.027608 10404 deprecation_wrapper.py:119] From C:\\Users\\JD\\Anaconda3\\lib\\site-packages\\keras\\backend\\tensorflow_backend.py:3976: The name tf.nn.max_pool is deprecated. Please use tf.nn.max_pool2d instead.\n",
      "\n",
      "W1117 18:13:29.127541 10404 deprecation_wrapper.py:119] From C:\\Users\\JD\\Anaconda3\\lib\\site-packages\\keras\\backend\\tensorflow_backend.py:174: The name tf.get_default_session is deprecated. Please use tf.compat.v1.get_default_session instead.\n",
      "\n",
      "W1117 18:13:29.128540 10404 deprecation_wrapper.py:119] From C:\\Users\\JD\\Anaconda3\\lib\\site-packages\\keras\\backend\\tensorflow_backend.py:181: The name tf.ConfigProto is deprecated. Please use tf.compat.v1.ConfigProto instead.\n",
      "\n",
      "W1117 18:13:32.323232 10404 deprecation_wrapper.py:119] From C:\\Users\\JD\\Anaconda3\\lib\\site-packages\\keras\\backend\\tensorflow_backend.py:1834: The name tf.nn.fused_batch_norm is deprecated. Please use tf.compat.v1.nn.fused_batch_norm instead.\n",
      "\n",
      "W1117 18:13:32.474145 10404 deprecation.py:506] From C:\\Users\\JD\\Anaconda3\\lib\\site-packages\\keras\\backend\\tensorflow_backend.py:3445: calling dropout (from tensorflow.python.ops.nn_ops) with keep_prob is deprecated and will be removed in a future version.\n",
      "Instructions for updating:\n",
      "Please use `rate` instead of `keep_prob`. Rate should be set to `rate = 1 - keep_prob`.\n",
      "W1117 18:13:32.909895 10404 deprecation_wrapper.py:119] From C:\\Users\\JD\\Anaconda3\\lib\\site-packages\\keras\\optimizers.py:790: The name tf.train.Optimizer is deprecated. Please use tf.compat.v1.train.Optimizer instead.\n",
      "\n"
     ]
    },
    {
     "name": "stdout",
     "output_type": "stream",
     "text": [
      "__________________________________________________________________________________________________\n",
      "Layer (type)                    Output Shape         Param #     Connected to                     \n",
      "==================================================================================================\n",
      "input_1 (InputLayer)            (None, 50, 200, 1)   0                                            \n",
      "__________________________________________________________________________________________________\n",
      "conv2d_1 (Conv2D)               (None, 50, 200, 16)  160         input_1[0][0]                    \n",
      "__________________________________________________________________________________________________\n",
      "max_pooling2d_1 (MaxPooling2D)  (None, 25, 100, 16)  0           conv2d_1[0][0]                   \n",
      "__________________________________________________________________________________________________\n",
      "conv2d_2 (Conv2D)               (None, 25, 100, 32)  4640        max_pooling2d_1[0][0]            \n",
      "__________________________________________________________________________________________________\n",
      "max_pooling2d_2 (MaxPooling2D)  (None, 13, 50, 32)   0           conv2d_2[0][0]                   \n",
      "__________________________________________________________________________________________________\n",
      "conv2d_3 (Conv2D)               (None, 13, 50, 32)   9248        max_pooling2d_2[0][0]            \n",
      "__________________________________________________________________________________________________\n",
      "batch_normalization_1 (BatchNor (None, 13, 50, 32)   128         conv2d_3[0][0]                   \n",
      "__________________________________________________________________________________________________\n",
      "max_pooling2d_3 (MaxPooling2D)  (None, 7, 25, 32)    0           batch_normalization_1[0][0]      \n",
      "__________________________________________________________________________________________________\n",
      "flatten_1 (Flatten)             (None, 5600)         0           max_pooling2d_3[0][0]            \n",
      "__________________________________________________________________________________________________\n",
      "dense_1 (Dense)                 (None, 64)           358464      flatten_1[0][0]                  \n",
      "__________________________________________________________________________________________________\n",
      "dense_3 (Dense)                 (None, 64)           358464      flatten_1[0][0]                  \n",
      "__________________________________________________________________________________________________\n",
      "dense_5 (Dense)                 (None, 64)           358464      flatten_1[0][0]                  \n",
      "__________________________________________________________________________________________________\n",
      "dense_7 (Dense)                 (None, 64)           358464      flatten_1[0][0]                  \n",
      "__________________________________________________________________________________________________\n",
      "dense_9 (Dense)                 (None, 64)           358464      flatten_1[0][0]                  \n",
      "__________________________________________________________________________________________________\n",
      "dropout_1 (Dropout)             (None, 64)           0           dense_1[0][0]                    \n",
      "__________________________________________________________________________________________________\n",
      "dropout_2 (Dropout)             (None, 64)           0           dense_3[0][0]                    \n",
      "__________________________________________________________________________________________________\n",
      "dropout_3 (Dropout)             (None, 64)           0           dense_5[0][0]                    \n",
      "__________________________________________________________________________________________________\n",
      "dropout_4 (Dropout)             (None, 64)           0           dense_7[0][0]                    \n",
      "__________________________________________________________________________________________________\n",
      "dropout_5 (Dropout)             (None, 64)           0           dense_9[0][0]                    \n",
      "__________________________________________________________________________________________________\n",
      "dense_2 (Dense)                 (None, 36)           2340        dropout_1[0][0]                  \n",
      "__________________________________________________________________________________________________\n",
      "dense_4 (Dense)                 (None, 36)           2340        dropout_2[0][0]                  \n",
      "__________________________________________________________________________________________________\n",
      "dense_6 (Dense)                 (None, 36)           2340        dropout_3[0][0]                  \n",
      "__________________________________________________________________________________________________\n",
      "dense_8 (Dense)                 (None, 36)           2340        dropout_4[0][0]                  \n",
      "__________________________________________________________________________________________________\n",
      "dense_10 (Dense)                (None, 36)           2340        dropout_5[0][0]                  \n",
      "==================================================================================================\n",
      "Total params: 1,818,196\n",
      "Trainable params: 1,818,132\n",
      "Non-trainable params: 64\n",
      "__________________________________________________________________________________________________\n"
     ]
    }
   ],
   "source": [
    "model=create_model();\n",
    "model.summary();"
   ]
  },
  {
   "cell_type": "code",
   "execution_count": 14,
   "metadata": {
    "_uuid": "e82754ff49c3cec708b87947c417566a252d3c12",
    "scrolled": true
   },
   "outputs": [
    {
     "name": "stderr",
     "output_type": "stream",
     "text": [
      "W1117 18:13:39.891553 10404 deprecation.py:323] From C:\\Users\\JD\\Anaconda3\\lib\\site-packages\\tensorflow\\python\\ops\\math_grad.py:1250: add_dispatch_support.<locals>.wrapper (from tensorflow.python.ops.array_ops) is deprecated and will be removed in a future version.\n",
      "Instructions for updating:\n",
      "Use tf.where in 2.0, which has the same broadcast rule as np.where\n"
     ]
    },
    {
     "name": "stdout",
     "output_type": "stream",
     "text": [
      "Train on 776 samples, validate on 194 samples\n",
      "Epoch 1/30\n",
      "776/776 [==============================] - 7s 9ms/step - loss: 17.2855 - dense_2_loss: 3.3274 - dense_4_loss: 3.5070 - dense_6_loss: 3.4233 - dense_8_loss: 3.4758 - dense_10_loss: 3.5520 - dense_2_acc: 0.0451 - dense_4_acc: 0.0567 - dense_6_acc: 0.0631 - dense_8_acc: 0.0515 - dense_10_acc: 0.0412 - val_loss: 19.1381 - val_dense_2_loss: 5.9961 - val_dense_4_loss: 3.3001 - val_dense_6_loss: 3.1297 - val_dense_8_loss: 3.2903 - val_dense_10_loss: 3.4219 - val_dense_2_acc: 0.0000e+00 - val_dense_4_acc: 0.0619 - val_dense_6_acc: 0.0722 - val_dense_8_acc: 0.0722 - val_dense_10_acc: 0.0412\n",
      "Epoch 2/30\n",
      "776/776 [==============================] - 3s 4ms/step - loss: 16.3283 - dense_2_loss: 3.0788 - dense_4_loss: 3.2985 - dense_6_loss: 3.2376 - dense_8_loss: 3.3228 - dense_10_loss: 3.3906 - dense_2_acc: 0.0644 - dense_4_acc: 0.0490 - dense_6_acc: 0.0567 - dense_8_acc: 0.0580 - dense_10_acc: 0.0554 - val_loss: 17.6159 - val_dense_2_loss: 4.4709 - val_dense_4_loss: 3.3693 - val_dense_6_loss: 3.1729 - val_dense_8_loss: 3.2380 - val_dense_10_loss: 3.3648 - val_dense_2_acc: 0.0000e+00 - val_dense_4_acc: 0.0979 - val_dense_6_acc: 0.1186 - val_dense_8_acc: 0.0670 - val_dense_10_acc: 0.0361\n",
      "Epoch 3/30\n",
      "776/776 [==============================] - 3s 3ms/step - loss: 15.4639 - dense_2_loss: 2.8713 - dense_4_loss: 3.1837 - dense_6_loss: 3.0427 - dense_8_loss: 3.1289 - dense_10_loss: 3.2372 - dense_2_acc: 0.0825 - dense_4_acc: 0.0670 - dense_6_acc: 0.0657 - dense_8_acc: 0.0567 - dense_10_acc: 0.0580 - val_loss: 17.9323 - val_dense_2_loss: 5.8076 - val_dense_4_loss: 3.0455 - val_dense_6_loss: 2.9576 - val_dense_8_loss: 3.0143 - val_dense_10_loss: 3.1074 - val_dense_2_acc: 0.0000e+00 - val_dense_4_acc: 0.0619 - val_dense_6_acc: 0.1546 - val_dense_8_acc: 0.0773 - val_dense_10_acc: 0.1031\n",
      "Epoch 4/30\n",
      "776/776 [==============================] - 3s 4ms/step - loss: 14.7481 - dense_2_loss: 2.6848 - dense_4_loss: 3.0253 - dense_6_loss: 2.9361 - dense_8_loss: 3.0160 - dense_10_loss: 3.0860 - dense_2_acc: 0.1057 - dense_4_acc: 0.0915 - dense_6_acc: 0.0915 - dense_8_acc: 0.0838 - dense_10_acc: 0.0786 - val_loss: 16.3754 - val_dense_2_loss: 4.0971 - val_dense_4_loss: 3.0608 - val_dense_6_loss: 3.0583 - val_dense_8_loss: 3.0951 - val_dense_10_loss: 3.0642 - val_dense_2_acc: 0.0000e+00 - val_dense_4_acc: 0.1340 - val_dense_6_acc: 0.1134 - val_dense_8_acc: 0.1082 - val_dense_10_acc: 0.0979\n",
      "Epoch 5/30\n",
      "776/776 [==============================] - 3s 4ms/step - loss: 14.2928 - dense_2_loss: 2.5682 - dense_4_loss: 2.8940 - dense_6_loss: 2.8683 - dense_8_loss: 2.9673 - dense_10_loss: 2.9949 - dense_2_acc: 0.1379 - dense_4_acc: 0.1237 - dense_6_acc: 0.1302 - dense_8_acc: 0.0851 - dense_10_acc: 0.1186 - val_loss: 16.2719 - val_dense_2_loss: 4.0020 - val_dense_4_loss: 2.9965 - val_dense_6_loss: 3.1132 - val_dense_8_loss: 3.1581 - val_dense_10_loss: 3.0020 - val_dense_2_acc: 0.0000e+00 - val_dense_4_acc: 0.1237 - val_dense_6_acc: 0.1186 - val_dense_8_acc: 0.1289 - val_dense_10_acc: 0.0258\n",
      "Epoch 6/30\n",
      "776/776 [==============================] - 3s 3ms/step - loss: 13.7047 - dense_2_loss: 2.4028 - dense_4_loss: 2.7651 - dense_6_loss: 2.7757 - dense_8_loss: 2.8417 - dense_10_loss: 2.9196 - dense_2_acc: 0.1572 - dense_4_acc: 0.1482 - dense_6_acc: 0.1482 - dense_8_acc: 0.1044 - dense_10_acc: 0.1005 - val_loss: 16.6740 - val_dense_2_loss: 5.1796 - val_dense_4_loss: 2.7089 - val_dense_6_loss: 2.8446 - val_dense_8_loss: 2.9458 - val_dense_10_loss: 2.9951 - val_dense_2_acc: 0.0000e+00 - val_dense_4_acc: 0.1907 - val_dense_6_acc: 0.1804 - val_dense_8_acc: 0.1546 - val_dense_10_acc: 0.0567\n",
      "Epoch 7/30\n",
      "776/776 [==============================] - 3s 4ms/step - loss: 13.0281 - dense_2_loss: 2.2153 - dense_4_loss: 2.5849 - dense_6_loss: 2.5516 - dense_8_loss: 2.8052 - dense_10_loss: 2.8711 - dense_2_acc: 0.1985 - dense_4_acc: 0.1946 - dense_6_acc: 0.2242 - dense_8_acc: 0.1508 - dense_10_acc: 0.1186 - val_loss: 18.2508 - val_dense_2_loss: 7.8996 - val_dense_4_loss: 2.3851 - val_dense_6_loss: 2.4575 - val_dense_8_loss: 2.7784 - val_dense_10_loss: 2.7301 - val_dense_2_acc: 0.0000e+00 - val_dense_4_acc: 0.2990 - val_dense_6_acc: 0.3196 - val_dense_8_acc: 0.1804 - val_dense_10_acc: 0.1598\n",
      "Epoch 8/30\n",
      "776/776 [==============================] - 3s 4ms/step - loss: 12.1435 - dense_2_loss: 1.9699 - dense_4_loss: 2.3753 - dense_6_loss: 2.3437 - dense_8_loss: 2.7034 - dense_10_loss: 2.7511 - dense_2_acc: 0.3028 - dense_4_acc: 0.2655 - dense_6_acc: 0.2809 - dense_8_acc: 0.1611 - dense_10_acc: 0.1430 - val_loss: 17.7586 - val_dense_2_loss: 8.2210 - val_dense_4_loss: 2.0987 - val_dense_6_loss: 2.2124 - val_dense_8_loss: 2.6180 - val_dense_10_loss: 2.6085 - val_dense_2_acc: 0.0000e+00 - val_dense_4_acc: 0.4124 - val_dense_6_acc: 0.3041 - val_dense_8_acc: 0.1804 - val_dense_10_acc: 0.1649\n",
      "Epoch 9/30\n",
      "776/776 [==============================] - 3s 4ms/step - loss: 11.3010 - dense_2_loss: 1.6945 - dense_4_loss: 2.1943 - dense_6_loss: 2.1401 - dense_8_loss: 2.5774 - dense_10_loss: 2.6947 - dense_2_acc: 0.4510 - dense_4_acc: 0.3106 - dense_6_acc: 0.3299 - dense_8_acc: 0.1843 - dense_10_acc: 0.1366 - val_loss: 19.6319 - val_dense_2_loss: 10.3658 - val_dense_4_loss: 1.8452 - val_dense_6_loss: 2.2550 - val_dense_8_loss: 2.5079 - val_dense_10_loss: 2.6580 - val_dense_2_acc: 0.0000e+00 - val_dense_4_acc: 0.3711 - val_dense_6_acc: 0.3557 - val_dense_8_acc: 0.2526 - val_dense_10_acc: 0.1598\n",
      "Epoch 10/30\n",
      "776/776 [==============================] - 3s 4ms/step - loss: 10.1724 - dense_2_loss: 1.2323 - dense_4_loss: 1.9206 - dense_6_loss: 1.9303 - dense_8_loss: 2.4533 - dense_10_loss: 2.6359 - dense_2_acc: 0.6585 - dense_4_acc: 0.3943 - dense_6_acc: 0.4265 - dense_8_acc: 0.1972 - dense_10_acc: 0.1714 - val_loss: 15.1625 - val_dense_2_loss: 6.6575 - val_dense_4_loss: 1.6811 - val_dense_6_loss: 1.9558 - val_dense_8_loss: 2.3852 - val_dense_10_loss: 2.4829 - val_dense_2_acc: 0.0309 - val_dense_4_acc: 0.5722 - val_dense_6_acc: 0.4124 - val_dense_8_acc: 0.2113 - val_dense_10_acc: 0.2680\n",
      "Epoch 11/30\n",
      "776/776 [==============================] - 3s 4ms/step - loss: 9.0444 - dense_2_loss: 0.8902 - dense_4_loss: 1.6821 - dense_6_loss: 1.6919 - dense_8_loss: 2.3114 - dense_10_loss: 2.4688 - dense_2_acc: 0.7500 - dense_4_acc: 0.4871 - dense_6_acc: 0.4845 - dense_8_acc: 0.2229 - dense_10_acc: 0.1997 - val_loss: 16.6984 - val_dense_2_loss: 9.3633 - val_dense_4_loss: 1.3601 - val_dense_6_loss: 1.6793 - val_dense_8_loss: 2.0100 - val_dense_10_loss: 2.2857 - val_dense_2_acc: 0.0000e+00 - val_dense_4_acc: 0.6598 - val_dense_6_acc: 0.5258 - val_dense_8_acc: 0.2526 - val_dense_10_acc: 0.3144\n",
      "Epoch 12/30\n",
      "776/776 [==============================] - 3s 4ms/step - loss: 7.8121 - dense_2_loss: 0.6841 - dense_4_loss: 1.2661 - dense_6_loss: 1.4542 - dense_8_loss: 2.0618 - dense_10_loss: 2.3459 - dense_2_acc: 0.7887 - dense_4_acc: 0.5902 - dense_6_acc: 0.5735 - dense_8_acc: 0.3260 - dense_10_acc: 0.2281 - val_loss: 16.7583 - val_dense_2_loss: 9.6288 - val_dense_4_loss: 1.3789 - val_dense_6_loss: 1.7248 - val_dense_8_loss: 1.9055 - val_dense_10_loss: 2.1202 - val_dense_2_acc: 0.0052 - val_dense_4_acc: 0.6289 - val_dense_6_acc: 0.5206 - val_dense_8_acc: 0.3660 - val_dense_10_acc: 0.3093\n",
      "Epoch 13/30\n",
      "776/776 [==============================] - 3s 4ms/step - loss: 6.9354 - dense_2_loss: 0.5293 - dense_4_loss: 1.1154 - dense_6_loss: 1.2503 - dense_8_loss: 1.8927 - dense_10_loss: 2.1477 - dense_2_acc: 0.8531 - dense_4_acc: 0.6740 - dense_6_acc: 0.6095 - dense_8_acc: 0.3943 - dense_10_acc: 0.2964 - val_loss: 16.0444 - val_dense_2_loss: 10.1906 - val_dense_4_loss: 1.1047 - val_dense_6_loss: 1.3160 - val_dense_8_loss: 1.6935 - val_dense_10_loss: 1.7395 - val_dense_2_acc: 0.0206 - val_dense_4_acc: 0.7474 - val_dense_6_acc: 0.6443 - val_dense_8_acc: 0.4124 - val_dense_10_acc: 0.3969\n",
      "Epoch 14/30\n",
      "776/776 [==============================] - 3s 4ms/step - loss: 5.8460 - dense_2_loss: 0.4190 - dense_4_loss: 0.8374 - dense_6_loss: 1.0558 - dense_8_loss: 1.6389 - dense_10_loss: 1.8949 - dense_2_acc: 0.8698 - dense_4_acc: 0.7371 - dense_6_acc: 0.6714 - dense_8_acc: 0.4446 - dense_10_acc: 0.3634 - val_loss: 15.3653 - val_dense_2_loss: 10.1906 - val_dense_4_loss: 1.0048 - val_dense_6_loss: 1.2327 - val_dense_8_loss: 1.4279 - val_dense_10_loss: 1.5093 - val_dense_2_acc: 0.0206 - val_dense_4_acc: 0.7423 - val_dense_6_acc: 0.6649 - val_dense_8_acc: 0.5876 - val_dense_10_acc: 0.4588\n"
     ]
    },
    {
     "name": "stdout",
     "output_type": "stream",
     "text": [
      "Epoch 15/30\n",
      "776/776 [==============================] - 3s 4ms/step - loss: 5.0493 - dense_2_loss: 0.3044 - dense_4_loss: 0.6978 - dense_6_loss: 0.9467 - dense_8_loss: 1.4426 - dense_10_loss: 1.6579 - dense_2_acc: 0.9137 - dense_4_acc: 0.7771 - dense_6_acc: 0.6894 - dense_8_acc: 0.5090 - dense_10_acc: 0.4420 - val_loss: 14.8948 - val_dense_2_loss: 10.2432 - val_dense_4_loss: 1.0229 - val_dense_6_loss: 1.1024 - val_dense_8_loss: 1.2867 - val_dense_10_loss: 1.2396 - val_dense_2_acc: 0.0309 - val_dense_4_acc: 0.7474 - val_dense_6_acc: 0.6959 - val_dense_8_acc: 0.6031 - val_dense_10_acc: 0.5722\n",
      "Epoch 16/30\n",
      "776/776 [==============================] - 3s 4ms/step - loss: 4.4085 - dense_2_loss: 0.2601 - dense_4_loss: 0.6129 - dense_6_loss: 0.7880 - dense_8_loss: 1.3297 - dense_10_loss: 1.4178 - dense_2_acc: 0.9188 - dense_4_acc: 0.7990 - dense_6_acc: 0.7448 - dense_8_acc: 0.5451 - dense_10_acc: 0.5168 - val_loss: 14.4834 - val_dense_2_loss: 9.7134 - val_dense_4_loss: 0.8875 - val_dense_6_loss: 1.3332 - val_dense_8_loss: 1.3111 - val_dense_10_loss: 1.2382 - val_dense_2_acc: 0.0309 - val_dense_4_acc: 0.7629 - val_dense_6_acc: 0.6495 - val_dense_8_acc: 0.6186 - val_dense_10_acc: 0.5361\n",
      "Epoch 17/30\n",
      "776/776 [==============================] - 3s 4ms/step - loss: 3.6581 - dense_2_loss: 0.2205 - dense_4_loss: 0.4752 - dense_6_loss: 0.6858 - dense_8_loss: 1.0927 - dense_10_loss: 1.1839 - dense_2_acc: 0.9330 - dense_4_acc: 0.8415 - dense_6_acc: 0.7822 - dense_8_acc: 0.6405 - dense_10_acc: 0.5889 - val_loss: 16.5960 - val_dense_2_loss: 11.6199 - val_dense_4_loss: 0.9646 - val_dense_6_loss: 1.4158 - val_dense_8_loss: 1.1917 - val_dense_10_loss: 1.4040 - val_dense_2_acc: 0.0206 - val_dense_4_acc: 0.8041 - val_dense_6_acc: 0.6701 - val_dense_8_acc: 0.6495 - val_dense_10_acc: 0.5309\n",
      "Epoch 18/30\n",
      "776/776 [==============================] - 3s 4ms/step - loss: 3.4115 - dense_2_loss: 0.2377 - dense_4_loss: 0.4167 - dense_6_loss: 0.6109 - dense_8_loss: 1.0783 - dense_10_loss: 1.0678 - dense_2_acc: 0.9162 - dense_4_acc: 0.8582 - dense_6_acc: 0.8080 - dense_8_acc: 0.6353 - dense_10_acc: 0.6572 - val_loss: 14.5456 - val_dense_2_loss: 10.4915 - val_dense_4_loss: 0.9792 - val_dense_6_loss: 1.2068 - val_dense_8_loss: 0.9647 - val_dense_10_loss: 0.9033 - val_dense_2_acc: 0.0567 - val_dense_4_acc: 0.8041 - val_dense_6_acc: 0.7371 - val_dense_8_acc: 0.7113 - val_dense_10_acc: 0.7010\n",
      "Epoch 19/30\n",
      "776/776 [==============================] - 3s 4ms/step - loss: 3.0309 - dense_2_loss: 0.1694 - dense_4_loss: 0.3915 - dense_6_loss: 0.5500 - dense_8_loss: 0.9632 - dense_10_loss: 0.9569 - dense_2_acc: 0.9485 - dense_4_acc: 0.8776 - dense_6_acc: 0.8389 - dense_8_acc: 0.6727 - dense_10_acc: 0.6830 - val_loss: 13.5191 - val_dense_2_loss: 9.9408 - val_dense_4_loss: 0.7576 - val_dense_6_loss: 1.0155 - val_dense_8_loss: 0.9155 - val_dense_10_loss: 0.8898 - val_dense_2_acc: 0.0412 - val_dense_4_acc: 0.8557 - val_dense_6_acc: 0.7732 - val_dense_8_acc: 0.7577 - val_dense_10_acc: 0.6959\n",
      "Epoch 20/30\n",
      "776/776 [==============================] - 3s 4ms/step - loss: 2.6187 - dense_2_loss: 0.1419 - dense_4_loss: 0.3334 - dense_6_loss: 0.4952 - dense_8_loss: 0.8595 - dense_10_loss: 0.7887 - dense_2_acc: 0.9575 - dense_4_acc: 0.8892 - dense_6_acc: 0.8389 - dense_8_acc: 0.7152 - dense_10_acc: 0.7294 - val_loss: 14.1906 - val_dense_2_loss: 10.5598 - val_dense_4_loss: 0.7857 - val_dense_6_loss: 1.2124 - val_dense_8_loss: 0.9162 - val_dense_10_loss: 0.7165 - val_dense_2_acc: 0.0412 - val_dense_4_acc: 0.8660 - val_dense_6_acc: 0.7526 - val_dense_8_acc: 0.7113 - val_dense_10_acc: 0.7680\n",
      "Epoch 21/30\n",
      "776/776 [==============================] - 3s 4ms/step - loss: 2.3691 - dense_2_loss: 0.1709 - dense_4_loss: 0.3256 - dense_6_loss: 0.4553 - dense_8_loss: 0.7352 - dense_10_loss: 0.6822 - dense_2_acc: 0.9459 - dense_4_acc: 0.9008 - dense_6_acc: 0.8621 - dense_8_acc: 0.7487 - dense_10_acc: 0.7668 - val_loss: 13.7061 - val_dense_2_loss: 10.0355 - val_dense_4_loss: 0.8952 - val_dense_6_loss: 1.2832 - val_dense_8_loss: 0.8468 - val_dense_10_loss: 0.6454 - val_dense_2_acc: 0.1082 - val_dense_4_acc: 0.8557 - val_dense_6_acc: 0.7371 - val_dense_8_acc: 0.7732 - val_dense_10_acc: 0.8196\n",
      "Epoch 22/30\n",
      "776/776 [==============================] - 3s 4ms/step - loss: 2.0893 - dense_2_loss: 0.1249 - dense_4_loss: 0.2621 - dense_6_loss: 0.4306 - dense_8_loss: 0.6700 - dense_10_loss: 0.6016 - dense_2_acc: 0.9613 - dense_4_acc: 0.9098 - dense_6_acc: 0.8570 - dense_8_acc: 0.7642 - dense_10_acc: 0.7784 - val_loss: 14.7321 - val_dense_2_loss: 11.1039 - val_dense_4_loss: 0.8830 - val_dense_6_loss: 1.1484 - val_dense_8_loss: 0.9334 - val_dense_10_loss: 0.6634 - val_dense_2_acc: 0.0258 - val_dense_4_acc: 0.8144 - val_dense_6_acc: 0.7680 - val_dense_8_acc: 0.7320 - val_dense_10_acc: 0.7732\n",
      "Epoch 23/30\n",
      "776/776 [==============================] - 3s 3ms/step - loss: 1.8956 - dense_2_loss: 0.1401 - dense_4_loss: 0.2707 - dense_6_loss: 0.3552 - dense_8_loss: 0.6306 - dense_10_loss: 0.4990 - dense_2_acc: 0.9562 - dense_4_acc: 0.8982 - dense_6_acc: 0.8879 - dense_8_acc: 0.7809 - dense_10_acc: 0.8312 - val_loss: 14.2786 - val_dense_2_loss: 10.6634 - val_dense_4_loss: 0.8989 - val_dense_6_loss: 1.3544 - val_dense_8_loss: 0.8004 - val_dense_10_loss: 0.5614 - val_dense_2_acc: 0.0412 - val_dense_4_acc: 0.8402 - val_dense_6_acc: 0.7732 - val_dense_8_acc: 0.7887 - val_dense_10_acc: 0.8196\n",
      "Epoch 24/30\n",
      "776/776 [==============================] - 3s 4ms/step - loss: 1.7284 - dense_2_loss: 0.1433 - dense_4_loss: 0.2369 - dense_6_loss: 0.3253 - dense_8_loss: 0.5211 - dense_10_loss: 0.5019 - dense_2_acc: 0.9510 - dense_4_acc: 0.9214 - dense_6_acc: 0.8995 - dense_8_acc: 0.8106 - dense_10_acc: 0.8144 - val_loss: 14.3581 - val_dense_2_loss: 10.8417 - val_dense_4_loss: 0.7895 - val_dense_6_loss: 1.2277 - val_dense_8_loss: 0.8509 - val_dense_10_loss: 0.6482 - val_dense_2_acc: 0.0309 - val_dense_4_acc: 0.8505 - val_dense_6_acc: 0.7629 - val_dense_8_acc: 0.7629 - val_dense_10_acc: 0.8093\n",
      "Epoch 25/30\n",
      "776/776 [==============================] - 3s 4ms/step - loss: 1.5706 - dense_2_loss: 0.1245 - dense_4_loss: 0.2094 - dense_6_loss: 0.2619 - dense_8_loss: 0.5162 - dense_10_loss: 0.4585 - dense_2_acc: 0.9562 - dense_4_acc: 0.9420 - dense_6_acc: 0.9149 - dense_8_acc: 0.8209 - dense_10_acc: 0.8363 - val_loss: 16.0255 - val_dense_2_loss: 11.9021 - val_dense_4_loss: 1.0481 - val_dense_6_loss: 1.5130 - val_dense_8_loss: 0.9376 - val_dense_10_loss: 0.6246 - val_dense_2_acc: 0.0258 - val_dense_4_acc: 0.8711 - val_dense_6_acc: 0.7835 - val_dense_8_acc: 0.7474 - val_dense_10_acc: 0.8299\n",
      "Epoch 26/30\n",
      "776/776 [==============================] - 3s 4ms/step - loss: 1.4534 - dense_2_loss: 0.1110 - dense_4_loss: 0.2090 - dense_6_loss: 0.2917 - dense_8_loss: 0.4783 - dense_10_loss: 0.3633 - dense_2_acc: 0.9639 - dense_4_acc: 0.9304 - dense_6_acc: 0.8930 - dense_8_acc: 0.8209 - dense_10_acc: 0.8660 - val_loss: 14.1667 - val_dense_2_loss: 10.7759 - val_dense_4_loss: 0.8112 - val_dense_6_loss: 1.1888 - val_dense_8_loss: 0.8694 - val_dense_10_loss: 0.5213 - val_dense_2_acc: 0.0258 - val_dense_4_acc: 0.8454 - val_dense_6_acc: 0.7887 - val_dense_8_acc: 0.7784 - val_dense_10_acc: 0.8299\n",
      "Epoch 27/30\n",
      "776/776 [==============================] - 3s 4ms/step - loss: 1.4326 - dense_2_loss: 0.0987 - dense_4_loss: 0.2015 - dense_6_loss: 0.2423 - dense_8_loss: 0.4648 - dense_10_loss: 0.4254 - dense_2_acc: 0.9716 - dense_4_acc: 0.9369 - dense_6_acc: 0.9214 - dense_8_acc: 0.8479 - dense_10_acc: 0.8466 - val_loss: 14.6484 - val_dense_2_loss: 10.9687 - val_dense_4_loss: 0.8716 - val_dense_6_loss: 1.4413 - val_dense_8_loss: 0.8630 - val_dense_10_loss: 0.5038 - val_dense_2_acc: 0.0464 - val_dense_4_acc: 0.8660 - val_dense_6_acc: 0.7835 - val_dense_8_acc: 0.7577 - val_dense_10_acc: 0.8454\n",
      "Epoch 28/30\n",
      "776/776 [==============================] - 3s 4ms/step - loss: 1.3321 - dense_2_loss: 0.0935 - dense_4_loss: 0.1577 - dense_6_loss: 0.2549 - dense_8_loss: 0.4389 - dense_10_loss: 0.3871 - dense_2_acc: 0.9716 - dense_4_acc: 0.9510 - dense_6_acc: 0.9188 - dense_8_acc: 0.8389 - dense_10_acc: 0.8531 - val_loss: 16.4900 - val_dense_2_loss: 12.2114 - val_dense_4_loss: 1.2362 - val_dense_6_loss: 1.5197 - val_dense_8_loss: 0.9905 - val_dense_10_loss: 0.5322 - val_dense_2_acc: 0.0155 - val_dense_4_acc: 0.8660 - val_dense_6_acc: 0.7938 - val_dense_8_acc: 0.7784 - val_dense_10_acc: 0.8351\n"
     ]
    },
    {
     "name": "stdout",
     "output_type": "stream",
     "text": [
      "Epoch 29/30\n",
      "776/776 [==============================] - 3s 4ms/step - loss: 1.2607 - dense_2_loss: 0.1023 - dense_4_loss: 0.1880 - dense_6_loss: 0.2153 - dense_8_loss: 0.4113 - dense_10_loss: 0.3438 - dense_2_acc: 0.9652 - dense_4_acc: 0.9317 - dense_6_acc: 0.9175 - dense_8_acc: 0.8376 - dense_10_acc: 0.8660 - val_loss: 14.0544 - val_dense_2_loss: 10.2980 - val_dense_4_loss: 0.9670 - val_dense_6_loss: 1.4458 - val_dense_8_loss: 0.8284 - val_dense_10_loss: 0.5152 - val_dense_2_acc: 0.0876 - val_dense_4_acc: 0.8402 - val_dense_6_acc: 0.8247 - val_dense_8_acc: 0.7732 - val_dense_10_acc: 0.8608\n",
      "Epoch 30/30\n",
      "776/776 [==============================] - 3s 4ms/step - loss: 1.1219 - dense_2_loss: 0.0822 - dense_4_loss: 0.1486 - dense_6_loss: 0.2198 - dense_8_loss: 0.3665 - dense_10_loss: 0.3048 - dense_2_acc: 0.9678 - dense_4_acc: 0.9472 - dense_6_acc: 0.9265 - dense_8_acc: 0.8608 - dense_10_acc: 0.8840 - val_loss: 15.2953 - val_dense_2_loss: 11.4500 - val_dense_4_loss: 0.9622 - val_dense_6_loss: 1.3401 - val_dense_8_loss: 0.9812 - val_dense_10_loss: 0.5619 - val_dense_2_acc: 0.0464 - val_dense_4_acc: 0.8608 - val_dense_6_acc: 0.7990 - val_dense_8_acc: 0.7680 - val_dense_10_acc: 0.8505\n"
     ]
    }
   ],
   "source": [
    "#model = create_model()\n",
    "hist = model.fit(X_train, [y_train[0], y_train[1], y_train[2], y_train[3], y_train[4]], batch_size=32, epochs=30,verbose=1, validation_split=0.2)"
   ]
  },
  {
   "cell_type": "code",
   "execution_count": 16,
   "metadata": {
    "_uuid": "e2cf1d0b8ab4a293d3dc110eb85a0946333bb0b9"
   },
   "outputs": [],
   "source": [
    "# Define function to predict captcha\n",
    "def predict(filepath):\n",
    "    img = cv2.imread(filepath, cv2.IMREAD_GRAYSCALE)\n",
    "    if img is not None:\n",
    "        img = img / 255.0\n",
    "    else:\n",
    "        print(\"Not detected\");\n",
    "    res = np.array(model.predict(img[np.newaxis, :, :, np.newaxis]))\n",
    "    ans = np.reshape(res, (5, 36))\n",
    "    l_ind = []\n",
    "    probs = []\n",
    "    for a in ans:\n",
    "        l_ind.append(np.argmax(a))\n",
    "        #probs.append(np.max(a))\n",
    "\n",
    "    capt = ''\n",
    "    for l in l_ind:\n",
    "        capt += symbols[l]\n",
    "    return capt#, sum(probs) / 5\n",
    "\n"
   ]
  },
  {
   "cell_type": "code",
   "execution_count": 17,
   "metadata": {
    "_uuid": "ed22f3a33792928c9f74601b264d269361755e0b"
   },
   "outputs": [
    {
     "name": "stdout",
     "output_type": "stream",
     "text": [
      "100/100 [==============================] - 0s 5ms/step\n",
      "Test Loss and accuracy: [17.629780845642088, 15.473371353149414, 0.29056228667497636, 0.45840504884719846, 1.1750595808029174, 0.23238204538822174, 0.0, 0.91, 0.87, 0.75, 0.92]\n"
     ]
    }
   ],
   "source": [
    "score= model.evaluate(X_test,[y_test[0], y_test[1], y_test[2], y_test[3], y_test[4]],verbose=1)\n",
    "print('Test Loss and accuracy:', score)"
   ]
  },
  {
   "cell_type": "code",
   "execution_count": 21,
   "metadata": {
    "_uuid": "44002a5776a0b54067cc8ff9574c2fbdfc356068"
   },
   "outputs": [
    {
     "name": "stdout",
     "output_type": "stream",
     "text": [
      "100/100 [==============================] - 0s 1ms/step\n",
      "8n5p3\n",
      "f2m8n\n",
      "dce8y\n",
      "3eny7\n",
      "mpxb7\n"
     ]
    }
   ],
   "source": [
    "# Check model on some samples\n",
    "model.evaluate(X_test, [y_test[0], y_test[1], y_test[2], y_test[3], y_test[4]])\n",
    "print(predict('./captcha/test-samples/8n5p3.png'))\n",
    "print(predict('./captcha/test-samples/f2m8n.png'))\n",
    "print(predict('./captcha/test-samples/dce8y.png'))\n",
    "print(predict('./captcha/test-samples/3eny7.png'))\n",
    "print(predict('./captcha/test-samples/npxb7.png'))"
   ]
  },
  {
   "cell_type": "code",
   "execution_count": 14,
   "metadata": {
    "_uuid": "1c7d6e4f3407125d1bb3425efeaf31522a579abb"
   },
   "outputs": [],
   "source": []
  }
 ],
 "metadata": {
  "kernelspec": {
   "display_name": "Python 3",
   "language": "python",
   "name": "python3"
  },
  "language_info": {
   "codemirror_mode": {
    "name": "ipython",
    "version": 3
   },
   "file_extension": ".py",
   "mimetype": "text/x-python",
   "name": "python",
   "nbconvert_exporter": "python",
   "pygments_lexer": "ipython3",
   "version": "3.6.9"
  }
 },
 "nbformat": 4,
 "nbformat_minor": 1
}
